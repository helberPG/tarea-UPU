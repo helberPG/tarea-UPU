{
 "cells": [
  {
   "cell_type": "code",
   "execution_count": 11,
   "id": "6beca5f1-6d12-4cd9-84eb-717ae103eeba",
   "metadata": {},
   "outputs": [],
   "source": [
    "import pandas as pd\n",
    "from sklearn.preprocessing import LabelEncoder\n",
    "from imblearn.over_sampling import SMOTE"
   ]
  },
  {
   "cell_type": "code",
   "execution_count": 12,
   "id": "60e19366-f824-4a74-b725-7d1f80ca70aa",
   "metadata": {},
   "outputs": [],
   "source": [
    "dataframe = pd.read_csv(\"data.csv\", sep=\";\")\n",
    "dataframe = dataframe.dropna()"
   ]
  },
  {
   "cell_type": "code",
   "execution_count": 13,
   "id": "eda193f7-bb21-49bd-be0a-a678e4ef1b58",
   "metadata": {},
   "outputs": [
    {
     "data": {
      "text/plain": [
       "Salud_fetal\n",
       "1    1655\n",
       "2     295\n",
       "3     176\n",
       "dtype: int64"
      ]
     },
     "execution_count": 13,
     "metadata": {},
     "output_type": "execute_result"
    }
   ],
   "source": [
    "dataframe.head(10)\n",
    "dataframe.describe()\n",
    "dataframe.groupby(\"Salud_fetal\").size()"
   ]
  },
  {
   "cell_type": "code",
   "execution_count": 14,
   "id": "04335680-1c46-4077-abc4-059c3f1b27da",
   "metadata": {},
   "outputs": [
    {
     "data": {
      "text/plain": [
       "<seaborn.axisgrid.FacetGrid at 0x1b797478b30>"
      ]
     },
     "execution_count": 14,
     "metadata": {},
     "output_type": "execute_result"
    },
    {
     "data": {
      "image/png": "[encoded data removed]",
      "text/plain": [
       "<Figure size 211.111x250 with 1 Axes>"
      ]
     },
     "metadata": {},
     "output_type": "display_data"
    }
   ],
   "source": [
    "import seaborn as sb\n",
    "sb.catplot(x = \"Salud_fetal\",data=dataframe,kind=\"count\",height=2.5, aspect=.8)"
   ]
  },
  {
   "cell_type": "code",
   "execution_count": 15,
   "id": "5b298dcd-61c4-451c-92d9-d4b3f56abcff",
   "metadata": {},
   "outputs": [],
   "source": [
    "label_encoder = LabelEncoder()\n",
    "for column in dataframe.select_dtypes(include=['object']).columns:\n",
    "    dataframe[column] = label_encoder.fit_transform(dataframe[column])"
   ]
  },
  {
   "cell_type": "code",
   "execution_count": 16,
   "id": "de01ceb3-e191-4107-8140-a66367a4aefb",
   "metadata": {},
   "outputs": [],
   "source": [
    "y = dataframe[\"Salud_fetal\"]\n",
    "x = dataframe.drop(\"Salud_fetal\", axis=1)"
   ]
  },
  {
   "cell_type": "code",
   "execution_count": 17,
   "id": "1cc4580a-2856-43e8-acf0-8e49ead80dbd",
   "metadata": {},
   "outputs": [],
   "source": [
    "smote = SMOTE(random_state=42)\n",
    "x_resampled, y_resampled = smote.fit_resample(x, y)"
   ]
  },
  {
   "cell_type": "code",
   "execution_count": 18,
   "id": "74d5f983-2897-4b7f-b2ad-1207f0ab2080",
   "metadata": {},
   "outputs": [],
   "source": [
    "df_balanceado = pd.DataFrame(x_resampled, columns=x.columns)\n",
    "df_balanceado[\"Salud_fetal\"] = y_resampled\n",
    "df_balanceado.to_csv(\"DataSet_Salud_fetal_Balanceado.csv\", sep=\";\", index=False)"
   ]
  }
 ],
 "metadata": {
  "kernelspec": {
   "display_name": "Python 3 (ipykernel)",
   "language": "python",
   "name": "python3"
  },
  "language_info": {
   "codemirror_mode": {
    "name": "ipython",
    "version": 3
   },
   "file_extension": ".py",
   "mimetype": "text/x-python",
   "name": "python",
   "nbconvert_exporter": "python",
   "pygments_lexer": "ipython3",
   "version": "3.12.7"
  }
 },
 "nbformat": 4,
 "nbformat_minor": 5
}
